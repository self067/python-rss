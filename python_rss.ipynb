{
  "nbformat": 4,
  "nbformat_minor": 0,
  "metadata": {
    "colab": {
      "name": "python-rss.ipynb",
      "provenance": [],
      "collapsed_sections": [],
      "authorship_tag": "ABX9TyN6/pbkU4h1/VOwTSut2zWa",
      "include_colab_link": true
    },
    "kernelspec": {
      "name": "python3",
      "display_name": "Python 3"
    },
    "language_info": {
      "name": "python"
    }
  },
  "cells": [
    {
      "cell_type": "markdown",
      "metadata": {
        "id": "view-in-github",
        "colab_type": "text"
      },
      "source": [
        "<a href=\"https://colab.research.google.com/github/self067/python-rss/blob/master/python_rss.ipynb\" target=\"_parent\"><img src=\"https://colab.research.google.com/assets/colab-badge.svg\" alt=\"Open In Colab\"/></a>"
      ]
    },
    {
      "cell_type": "code",
      "execution_count": null,
      "metadata": {
        "colab": {
          "base_uri": "https://localhost:8080/"
        },
        "id": "xFw0_pSgOgqY",
        "outputId": "60ad1771-e5ec-4e92-edf3-e2ee9deb9d1a"
      },
      "outputs": [
        {
          "output_type": "stream",
          "name": "stdout",
          "text": [
            "554443332\n",
            "554443332\n"
          ]
        }
      ],
      "source": [
        "num = 324345435\n",
        "print(''.join(sorted(list(str(num)), reverse=True )))\n",
        "print(''.join(sorted(str(num), reverse=True )))\n",
        "\n"
      ]
    },
    {
      "cell_type": "code",
      "source": [
        "n = [1, 2, 3, 4, 5, 6, 7, 8, 9, 0]\n",
        "\n",
        "s = \"(\"+str(n[0])+str(n[1])+str(n[2])+\") \"\n",
        "s += str(n[3])+str(n[4])+str(n[5])+\"-\"+str(n[6])+str(n[7])+str(n[8])+str(n[9])\n",
        "print(s)\n",
        "# => returns \"(123) 456-7890\"\n",
        "\n",
        "s = \"({}{}{}) {}{}{}-{}{}{}{}\".format(*n)\n",
        "print(s)\n",
        "\n",
        "s = ''.join(map(str,n))\n",
        "s = '(%s) %s-%s'%(s[:3], s[3:6], s[6:])\n",
        "print(s)\n",
        "\n",
        "\n",
        "s = \"(%i%i%i) %i%i%i-%i%i%i%i\" % tuple(n)\n",
        "print(s)\n",
        "\n"
      ],
      "metadata": {
        "colab": {
          "base_uri": "https://localhost:8080/"
        },
        "id": "6sZfdPEeVbmm",
        "outputId": "81167d8f-a8c3-461c-f69b-e125cc334342"
      },
      "execution_count": null,
      "outputs": [
        {
          "output_type": "stream",
          "name": "stdout",
          "text": [
            "(123) 456-7890\n",
            "(123) 456-7890\n",
            "(123) 456-7890\n",
            "(123) 456-7890\n"
          ]
        }
      ]
    },
    {
      "cell_type": "code",
      "source": [
        "names = []\n",
        "names = [\"Jacob\", \"Alex\"]\n",
        "names = [\"Max\", \"John\", \"Mark\"]\n",
        "names = [\"Alex\", \"Jacob\", \"Mark\", \"Max\"]\n",
        "if names == []:\n",
        "  res = \"no one likes this\"\n",
        "elif  len(names) == 1:\n",
        "  res = names[0] + \"likes this\"\n",
        "elif  len(names) == 2:\n",
        "  res = names[0] + ' and ' +names[1] + \" like this\"\n",
        "elif len(names) == 3:\n",
        "  res = names[0] + ', ' + names[1] + ' and ' +names[2] + \" like this\"\n",
        "else:\n",
        "  res = names[0] + ', ' +names[1] + \" and \"+ str(len(names)-2) + \" others like this\"\n",
        "#[\"Peter\"]                         -->  \"Peter likes this\"\n",
        "#[\"Jacob\", \"Alex\"]                 -->  \"Jacob and Alex like this\"\n",
        "#[\"Max\", \"John\", \"Mark\"]           -->  \"Max, John and Mark like this\"\n",
        "#[\"Alex\", \"Jacob\", \"Mark\", \"Max\"]  -->  \"Alex, Jacob and 2 others like this\"\n",
        "\n",
        "print(res)"
      ],
      "metadata": {
        "colab": {
          "base_uri": "https://localhost:8080/"
        },
        "id": "auxAYhI9TkbW",
        "outputId": "610560dd-dcb3-4698-e1d9-07f310ba3305"
      },
      "execution_count": null,
      "outputs": [
        {
          "output_type": "stream",
          "name": "stdout",
          "text": [
            "Alex, Jacob and 2 others like this\n"
          ]
        }
      ]
    },
    {
      "cell_type": "code",
      "source": [
        "def likes(names):\n",
        "    formats = {\n",
        "            0: \"no one likes this\",\n",
        "            1: \"{} likes this\",\n",
        "            2: \"{} and {} like this\",\n",
        "            3: \"{}, {} and {} like this\",\n",
        "            4: \"{}, {} and {others} others like this\"\n",
        "        }\n",
        "    n = len(names)\n",
        "    return formats[min(n,4)].format(*names, others=n-2)\n",
        "    "
      ],
      "metadata": {
        "id": "E4Izm_h-m8Px"
      },
      "execution_count": null,
      "outputs": []
    },
    {
      "cell_type": "code",
      "source": [
        "seq = [1,1,1,1,1,1,10,1,1,1,1]\n",
        "from collections import Counter\n",
        "c = Counter(seq)\n",
        "print(c.keys())\n",
        "# foreach c print(x)\n",
        "# print(c[10])\n",
        "for key in c.keys():\n",
        "    print(key, '->', c[key], c[key]%2!=0)\n",
        "\n",
        "duplicateFrequencies = {}\n",
        "for i in set(seq):\n",
        "    duplicateFrequencies[i] = seq.count(i)\n",
        "print(duplicateFrequencies.keys())\n",
        "for key in duplicateFrequencies.keys():\n",
        "    print(key, '->', duplicateFrequencies[key], duplicateFrequencies[key]%2!=0)\n",
        "\n",
        "    d = {}\n",
        "    for i in set(seq):\n",
        "        d[i] = seq.count(i)\n",
        "    \n",
        "    for key in d.keys():\n",
        "        if d[key]%2!=0:\n",
        "            print('---',key)\n"
      ],
      "metadata": {
        "colab": {
          "base_uri": "https://localhost:8080/"
        },
        "id": "CeSQyNbNomV9",
        "outputId": "4eaaeb90-368c-4ff8-f3da-71871ce3a88b"
      },
      "execution_count": null,
      "outputs": [
        {
          "output_type": "stream",
          "name": "stdout",
          "text": [
            "dict_keys([1, 10])\n",
            "1 -> 10 False\n",
            "10 -> 1 True\n",
            "dict_keys([1, 10])\n",
            "1 -> 10 False\n",
            "--- 10\n",
            "10 -> 1 True\n",
            "--- 10\n"
          ]
        }
      ]
    },
    {
      "cell_type": "code",
      "source": [
        "n=999\n",
        "s = str(n)\n",
        "i=0\n",
        "\n",
        "while len(s)>1:\n",
        "  mul=1\n",
        "  for x in s:\n",
        "    mul *= int(x)\n",
        "    s = str(mul)\n",
        "  i += 1\n",
        "\n",
        "print('i=',i)"
      ],
      "metadata": {
        "id": "v8zbLUN3unde",
        "colab": {
          "base_uri": "https://localhost:8080/"
        },
        "outputId": "fb3c93f3-d522-4eb2-e579-decc78cb8f8a"
      },
      "execution_count": null,
      "outputs": [
        {
          "output_type": "stream",
          "name": "stdout",
          "text": [
            "i= 4\n"
          ]
        }
      ]
    },
    {
      "cell_type": "code",
      "source": [
        "array1 = [[ 1, 2, 3, 4],\n",
        "         [12,13,14, 5],\n",
        "         [11,16,15, 6],\n",
        "         [10, 9, 8, 7]]\n",
        "\n",
        "array2 = [[ 1, 2, 3, 4, 5],\n",
        "         [16,17,18,19, 6],\n",
        "         [15,24,25,20, 7],\n",
        "         [14,23,22,21, 8],\n",
        "         [13,12,11,10, 9]]\n",
        "\n",
        "def snail(array):\n",
        "    res = []\n",
        "    bx=0\n",
        "    by=0\n",
        "    l=len(array)\n",
        "    ex=l-1\n",
        "    ey=ex\n",
        "    cx,cy=0,0\n",
        "    sz = len(array[0])*len(array)\n",
        "    while sz > 0:\n",
        "        res.append(array[cy][cx])\n",
        "\n",
        "        if cx != ex and cy==by:\n",
        "            if cx==bx and len(res) > l: ey -= 1 ###\n",
        "            cx += 1\n",
        "        elif  cx == ex and cy!=ey:\n",
        "            if cy == by and len(res) > l: bx += 1\n",
        "            cy += 1\n",
        "        elif  cx != bx and cy==ey:\n",
        "            if cx == ex and len(res) > l: by += 1\n",
        "            cx -= 1\n",
        "        elif  cx == bx and cy!=by:\n",
        "            if cy==ey and len(res) > l: ex -= 1\n",
        "            cy -= 1\n",
        "        sz -= 1\n",
        "    return res\n",
        "\n",
        "def snail2(array):\n",
        "    ret = []\n",
        "    if array and array[0]:\n",
        "        size = len(array)\n",
        "        for n in xrange((size + 1) // 2):\n",
        "            for x in xrange(n, size - n):\n",
        "                ret.append(array[n][x])\n",
        "            for y in xrange(1 + n, size - n):\n",
        "                ret.append(array[y][-1 - n])\n",
        "            for x in xrange(2 + n, size - n + 1):\n",
        "                ret.append(array[-1 - n][-x])\n",
        "            for y in xrange(2 + n, size - n):\n",
        "                ret.append(array[-y][n])\n",
        "    return ret\n",
        "\n",
        "import numpy as np\n",
        "\n",
        "def snail3(array):\n",
        "    m = []\n",
        "    array = np.array(array)\n",
        "    while len(array) > 0:\n",
        "        m += array[0].tolist()\n",
        "        array = np.rot90(array[1:])\n",
        "    return m\n",
        "\n",
        "def snail4(array):\n",
        "  if array:\n",
        "    # force to list because zip returns a list of tuples\n",
        "    top_row = list(array[0])\n",
        "    # rotate the array by switching remaining rows & columns with zip\n",
        "    # the * expands the remaining rows so they can be matched by column\n",
        "    rotated_array = zip(*array[1:])\n",
        "    # then reverse rows to make the formerly last column the next top row\n",
        "    rotated_array = rotated_array[::-1]\n",
        "    return top_row + snail(rotated_array)\n",
        "  else:\n",
        "    return []\n",
        "\n",
        "print(snail(array2))\n"
      ],
      "metadata": {
        "colab": {
          "base_uri": "https://localhost:8080/"
        },
        "id": "B4D5JI4xrJw3",
        "outputId": "b3499974-b8a4-4a8b-8276-fb8a9feb5d14"
      },
      "execution_count": null,
      "outputs": [
        {
          "output_type": "stream",
          "name": "stdout",
          "text": [
            "[1, 2, 3, 4, 5, 6, 7, 8, 9, 10, 11, 12, 13, 14, 15, 16, 17, 18, 19, 20, 21, 22, 23, 24, 25]\n"
          ]
        }
      ]
    },
    {
      "cell_type": "code",
      "source": [
        "seq = 'aba'\n",
        "res = {}\n",
        "for i in set(seq):\n",
        "    res[i] = seq.count(i)\n",
        "print(res)\n"
      ],
      "metadata": {
        "colab": {
          "base_uri": "https://localhost:8080/"
        },
        "id": "Qgswmrlwl-uh",
        "outputId": "6914e62e-68a3-45d2-dc34-d705ce154c40"
      },
      "execution_count": null,
      "outputs": [
        {
          "output_type": "stream",
          "name": "stdout",
          "text": [
            "{'b': 1, 'a': 2}\n"
          ]
        }
      ]
    },
    {
      "cell_type": "code",
      "source": [
        "it = 'AAAABBBCCDAABBB'\n",
        "it = 'ABBCcAD'\n",
        "l = len(it)\n",
        "i = 1\n",
        "res = []\n",
        "res.append(it[0])\n",
        "while i < l:\n",
        "  \n",
        "  if it[i] != it[i-1]:  res.append(it[i])\n",
        "  i += 1\n",
        "\n",
        "print(res)\n"
      ],
      "metadata": {
        "colab": {
          "base_uri": "https://localhost:8080/"
        },
        "id": "o2XRzO3Ipymo",
        "outputId": "69f2312d-d49b-47f8-d6e6-d62469113cae"
      },
      "execution_count": null,
      "outputs": [
        {
          "output_type": "stream",
          "name": "stdout",
          "text": [
            "['A', 'B', 'C', 'c', 'A', 'D']\n"
          ]
        }
      ]
    },
    {
      "cell_type": "code",
      "source": [
        "import re\n",
        "r'^[a-zA-Z0-9_.+-]+@[a-zA-Z0-9-]+(?:\\.[a-zA-Z0-9-]+)+$'\n",
        "pin = \"1232\\n\\n\"\n",
        "# print(len(pin)==4 or len(pin)==6 and re.match(r'^(\\d{4})(\\d{2})?$', pin))\n",
        "print(re.fullmatch(r'^(\\d{4})(\\d{2})?$', pin))"
      ],
      "metadata": {
        "id": "m75noMDYvE-m",
        "colab": {
          "base_uri": "https://localhost:8080/"
        },
        "outputId": "1bafca07-5e34-4113-aae1-a5164fd190fd"
      },
      "execution_count": null,
      "outputs": [
        {
          "output_type": "stream",
          "name": "stdout",
          "text": [
            "None\n"
          ]
        }
      ]
    },
    {
      "cell_type": "code",
      "source": [
        "def to_camel_case(s):\n",
        "    return s[0] + s.title().translate(None, \"-_\")[1:] if s else s\n",
        "\n",
        "s = \"the_stealth-warrior\"\n",
        "a = re.split('[_-]', s)\n",
        "res = []\n",
        "res.append(a[0])\n",
        "# del a[0]\n",
        "for x in a[1:]: res.append(x.capitalize())\n",
        "\"\".join(res)"
      ],
      "metadata": {
        "colab": {
          "base_uri": "https://localhost:8080/",
          "height": 35
        },
        "id": "QN3yWvOrQKqc",
        "outputId": "e76498be-39ec-434d-da64-6f481693c368"
      },
      "execution_count": null,
      "outputs": [
        {
          "output_type": "execute_result",
          "data": {
            "application/vnd.google.colaboratory.intrinsic+json": {
              "type": "string"
            },
            "text/plain": [
              "'theStealthWarrior'"
            ]
          },
          "metadata": {},
          "execution_count": 104
        }
      ]
    },
    {
      "cell_type": "code",
      "source": [
        "findNb(1071225) --> 45\n",
        "m = 1071225\n",
        "\n",
        "for i \n",
        "n**3"
      ],
      "metadata": {
        "id": "RQ7ac6_wYVMX"
      },
      "execution_count": null,
      "outputs": []
    }
  ]
}